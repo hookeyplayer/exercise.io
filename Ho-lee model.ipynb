{
 "cells": [
  {
   "cell_type": "code",
   "execution_count": 1,
   "metadata": {},
   "outputs": [],
   "source": [
    "from scipy.optimize import fsolve\n",
    "import math\n",
    "from math import exp, log, sqrt"
   ]
  },
  {
   "cell_type": "markdown",
   "metadata": {},
   "source": [
    "Первоначальная догадка для коэффициента theta"
   ]
  },
  {
   "cell_type": "code",
   "execution_count": 72,
   "metadata": {},
   "outputs": [
    {
     "name": "stdout",
     "output_type": "stream",
     "text": [
      "верхняя ставка: 0.0574\n",
      "ниже ставка: 0.0524\n"
     ]
    }
   ],
   "source": [
    "r0 = 0.04991\n",
    "theta = 0.02\n",
    "dt = 0.25\n",
    "sigma = 0.005\n",
    "r_d = r0 + theta*dt - sigma*dt**.5\n",
    "r_u = r_d + 2*sigma*dt**.5\n",
    "print(\"верхняя ставка: {:.4f}\".format(r_u))\n",
    "print(\"ниже ставка: {:.4f}\".format(r_d))"
   ]
  },
  {
   "cell_type": "markdown",
   "metadata": {},
   "source": [
    "Ответ Solver"
   ]
  },
  {
   "cell_type": "code",
   "execution_count": 73,
   "metadata": {},
   "outputs": [
    {
     "name": "stdout",
     "output_type": "stream",
     "text": [
      "верхняя ставка: 0.0025\n",
      "ниже ставка: -0.0025\n"
     ]
    }
   ],
   "source": [
    "r0 = 0.04991\n",
    "theta = solved \n",
    "dt = 0.25\n",
    "sigma = 0.005\n",
    "r_d = r0 + m*dt - sigma*dt**.5\n",
    "r_u = r_d + 2*sigma*dt**.5\n",
    "print(\"верхняя ставка: {:.4f}\".format(r_u))\n",
    "print(\"ниже ставка: {:.4f}\".format(r_d))"
   ]
  },
  {
   "cell_type": "code",
   "execution_count": 74,
   "metadata": {},
   "outputs": [
    {
     "name": "stdout",
     "output_type": "stream",
     "text": [
      "цена 6-месячной облигации: 98.7600\n"
     ]
    }
   ],
   "source": [
    "pv_mkt = 100 * exp(-r0*dt)\n",
    "print(\"цена 6-месячной облигации: {:.4f}\".format(pv_mkt))"
   ]
  },
  {
   "cell_type": "code",
   "execution_count": 75,
   "metadata": {},
   "outputs": [],
   "source": [
    "def holee(solved):\n",
    "    r0 = 0.04991\n",
    "    dt = 0.25\n",
    "    sigma = 0.005\n",
    "    r_d = r0 + solved*dt - sigma*dt**.5\n",
    "    r_u = r_d + 2*sigma*dt**.5\n",
    "    n_u = 100 * exp(-r_u*dt)\n",
    "    n_d = 100 * exp(-r_d*dt)\n",
    "    pv_mkt = 100 * exp(-r0*dt)\n",
    "    pv_neutral = (0.5*n_u + 0.5*n_d) * exp(-r0*dt)\n",
    "\n",
    "    return pv_neutral - pv_mkt # difference"
   ]
  },
  {
   "cell_type": "code",
   "execution_count": 76,
   "metadata": {},
   "outputs": [
    {
     "name": "stdout",
     "output_type": "stream",
     "text": [
      "-0.19963687500020202\n",
      "0.0\n"
     ]
    }
   ],
   "source": [
    "solved = fsolve(holee, 0)[0]\n",
    "print(solved)\n",
    "print(holee(solved))"
   ]
  },
  {
   "cell_type": "markdown",
   "metadata": {},
   "source": [
    "Стандартизация"
   ]
  },
  {
   "cell_type": "code",
   "execution_count": 77,
   "metadata": {},
   "outputs": [],
   "source": [
    "class Ho:\n",
    "    def __init__(self, r0, dt, sigma, pv_mkt):\n",
    "        self.r0 = r0\n",
    "        self.dt = dt\n",
    "        self.sigma = sigma\n",
    "        self.pv_mkt = pv_mkt\n",
    "        \n",
    "    def holee_std(self, tosolve):\n",
    "        r0 = self.r0\n",
    "        dt = self.dt\n",
    "        sigma = self.sigma\n",
    "        pv_mkt = self.pv_mkt\n",
    "        r_u = r_d + 2*sigma*dt**.5\n",
    "        r_d = r0 + tosolve*dt - sigma*dt**.5\n",
    "        n_u = 100 * exp(-r_u*dt)\n",
    "        n_d = 100 * exp(-r_d*dt)\n",
    "        pv_neutral = (0.5*n_u + 0.5*n_d) * exp(-r0*dt)\n",
    "        return pv_neutral - pv_mkt    \n",
    "    \n",
    "    def solver(self, tosolve):\n",
    "        return fsolve(self.holee_std, tosolve)[0]"
   ]
  },
  {
   "cell_type": "code",
   "execution_count": 86,
   "metadata": {},
   "outputs": [],
   "source": [
    "bond_1 = Ho(r0, dt, sigma, pv_mkt)\n",
    "r0 = 0.04991\n",
    "dt = 0.25\n",
    "sigma = 0.005\n",
    "pv_mkt = 100 * exp(-r0*dt)"
   ]
  },
  {
   "cell_type": "code",
   "execution_count": null,
   "metadata": {},
   "outputs": [],
   "source": []
  }
 ],
 "metadata": {
  "kernelspec": {
   "display_name": "Python 3",
   "language": "python",
   "name": "python3"
  },
  "language_info": {
   "codemirror_mode": {
    "name": "ipython",
    "version": 3
   },
   "file_extension": ".py",
   "mimetype": "text/x-python",
   "name": "python",
   "nbconvert_exporter": "python",
   "pygments_lexer": "ipython3",
   "version": "3.7.4"
  }
 },
 "nbformat": 4,
 "nbformat_minor": 2
}
